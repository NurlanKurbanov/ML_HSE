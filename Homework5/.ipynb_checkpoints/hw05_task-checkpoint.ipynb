{
 "cells": [
  {
   "cell_type": "markdown",
   "metadata": {
    "id": "9Qp0H_zUQuu_"
   },
   "source": [
    "# Нейронные сети\n",
    "__Суммарное количество баллов: 10__\n",
    "\n",
    "Для начала вам предстоит реализовать свой собственный backpropagation и протестировать его на реальных данных, а затем научиться обучать нейронные сети при помощи библиотеки `PyTorch` и использовать это умение для классификации классического набора данных CIFAR10.\n",
    "\n",
    "Обратите внимание, что использование PyTorch во всех заданиях кроме последнего запрещено. Автоматической проверки на его использование не будет, однако все посылки будут проверены вручную. "
   ]
  },
  {
   "cell_type": "code",
   "execution_count": 1,
   "metadata": {
    "id": "22ezVRf3QuvA"
   },
   "outputs": [
    {
     "name": "stderr",
     "output_type": "stream",
     "text": [
      "D:\\Users\\Nurlan\\miniconda3\\lib\\site-packages\\scipy\\__init__.py:146: UserWarning: A NumPy version >=1.16.5 and <1.23.0 is required for this version of SciPy (detected version 1.23.5\n",
      "  warnings.warn(f\"A NumPy version >={np_minversion} and <{np_maxversion}\"\n"
     ]
    }
   ],
   "source": [
    "import numpy as np\n",
    "import copy\n",
    "from sklearn.datasets import make_blobs, make_moons\n",
    "from typing import List, NoReturn"
   ]
  },
  {
   "cell_type": "markdown",
   "metadata": {
    "id": "4qfDPH_LQuvF"
   },
   "source": [
    "### Задание 1 (3 балла)\n",
    "Нейронные сети состоят из слоев, поэтому для начала понадобится реализовать их. Пока нам понадобятся только три:\n",
    "\n",
    "`Linear` - полносвязный слой, в котором `y = Wx + b`, где `y` - выход, `x` - вход, `W` - матрица весов, а `b` - смещение. \n",
    "\n",
    "`ReLU` - слой, соответствующий функции активации `y = max(0, x)`.\n",
    "\n",
    "\n",
    "#### Методы\n",
    "`forward(X)` - возвращает предсказанные для `X`. `X` может быть как вектором, так и батчем\n",
    "\n",
    "`backward(d)` - считает градиент при помощи обратного распространения ошибки. Возвращает новое значение `d`\n",
    "\n",
    "`update(alpha)` - обновляет веса (если необходимо) с заданой скоростью обучения\n",
    "\n",
    "#### Оценка\n",
    "Валидируется корректность работы каждого модуля отдельно. Ожидается, что выходы каждого модуля будут незначительно отличаться от ожидаемых выходов, а подсчет градиента и градиентный спуск будут работать корректно."
   ]
  },
  {
   "cell_type": "code",
   "execution_count": 2,
   "metadata": {
    "id": "aYS2gE4PYepZ"
   },
   "outputs": [],
   "source": [
    "from task import ReLU, Linear"
   ]
  },
  {
   "cell_type": "markdown",
   "metadata": {
    "id": "Rb_ip_h8QuvJ"
   },
   "source": [
    "### Задание 2 (2 балла)\n",
    "Теперь сделаем саму нейронную сеть.\n",
    "\n",
    "#### Методы\n",
    "`fit(X, y)` - обучает нейронную сеть заданное число эпох. В каждой эпохе необходимо использовать [cross-entropy loss](https://ml-cheatsheet.readthedocs.io/en/latest/loss_functions.html#cross-entropy) для обучения, а так же производить обновления не по одному элементу, а используя батчи.\n",
    "\n",
    "`predict_proba(X)` - предсказывает вероятности классов для элементов `X`\n",
    "\n",
    "#### Параметры конструктора\n",
    "`modules` - список, состоящий из ранее реализованных модулей и описывающий слои нейронной сети. В конец необходимо добавить `Softmax`\n",
    "\n",
    "`epochs` - количество эпох обучения\n",
    "\n",
    "`alpha` - скорость обучения\n",
    "\n",
    "#### Оценка\n",
    "Оценка производится на заданных ботом гиперпараметрах и архитектурах. Ожидается, что при подобранных заранее гиперпараметрах решение будет демонстрировать приемлемую точность.\n",
    "\n",
    "Всего 20 тестов по 500 точек в обучающей выборке и по 100 точек в тестовой выборке c 20 эпохами обучения и 10 тестов по 1000 точек в обучающей выборке и 200 точек в тестовой выборке с 40 эпохами обучения. Количество признаков варьируется от 2 до 8. Количество классов не более 8 и не менее 2."
   ]
  },
  {
   "cell_type": "code",
   "execution_count": 3,
   "metadata": {
    "id": "Q_JFCizKQuvK"
   },
   "outputs": [],
   "source": [
    "from task import MLPClassifier"
   ]
  },
  {
   "cell_type": "code",
   "execution_count": 4,
   "metadata": {
    "id": "onDymYQXQuvN"
   },
   "outputs": [],
   "source": [
    "p = MLPClassifier([\n",
    "    Linear(4, 8),\n",
    "    ReLU(),\n",
    "    Linear(8, 8),\n",
    "    ReLU(),\n",
    "    Linear(8, 2)\n",
    "])\n",
    "\n",
    "X = np.random.randn(50, 4)\n",
    "y = [(0 if x[0] > x[2]**2 or x[3]**3 > 0.5 else 1) for x in X]\n",
    "p.fit(X, y)"
   ]
  },
  {
   "cell_type": "markdown",
   "metadata": {
    "id": "3C1EIsDqQuvQ"
   },
   "source": [
    "### Задание 3 (2 балла)\n",
    "Протестируем наше решение на синтетических данных. Необходимо подобрать гиперпараметры, при которых качество полученных классификаторов будет достаточным.\n",
    "\n",
    "Первый датасет - датасет moons. В каждом тесте у данных всего два признака, классов также два.\n",
    "\n",
    "Второй датасет - датасет blobs. В каждом тесте у данных по два признака, классов три.\n",
    "\n",
    "\n",
    "Обратите внимание, что датасеты могут отличаться от приведенных ниже по количеству точек, уровню шума и положению центроидов. Количество классов и признаков остается неизменным.\n",
    "\n",
    "Обратите внимание, что классификатор будет обучаться ботом под каждый датасет отдельно. Обучать самостоятельно в файле `task.py` классификатор не нужно.\n",
    "\n",
    "Количество датасетов каждого типа равно 5. Количество точек в обучающей выборке не менее 1000, количество точек в тестовой выборке не менее 200.\n",
    "\n",
    "#### Оценка\n",
    "Средняя точность на датасетах moons больше 0.85 - +1 балл\n",
    "\n",
    "Средняя точность на датасетах blobs больше 0.85 - +1 балл"
   ]
  },
  {
   "cell_type": "code",
   "execution_count": 5,
   "metadata": {},
   "outputs": [],
   "source": [
    "from task import classifier_moons, classifier_blobs"
   ]
  },
  {
   "cell_type": "code",
   "execution_count": 6,
   "metadata": {
    "id": "d5UAgXTcQuvQ"
   },
   "outputs": [
    {
     "name": "stdout",
     "output_type": "stream",
     "text": [
      "Accuracy 0.9675\n"
     ]
    }
   ],
   "source": [
    "X, y = make_moons(400, noise=0.075)\n",
    "X_test, y_test = make_moons(400, noise=0.075)\n",
    "classifier_moons.fit(X, y)\n",
    "print(\"Accuracy\", np.mean(classifier_moons.predict(X_test) == y_test))"
   ]
  },
  {
   "cell_type": "code",
   "execution_count": 7,
   "metadata": {
    "id": "MMDJM4qFQuvT"
   },
   "outputs": [
    {
     "name": "stdout",
     "output_type": "stream",
     "text": [
      "Accuracy 0.935\n"
     ]
    }
   ],
   "source": [
    "X, y = make_blobs(400, 2, centers=[[0, 0], [2.5, 2.5], [-2.5, 3]])\n",
    "X_test, y_test = make_blobs(400, 2, centers=[[0, 0], [2.5, 2.5], [-2.5, 3]])\n",
    "classifier_blobs.fit(X, y)\n",
    "print(\"Accuracy\", np.mean(classifier_blobs.predict(X_test) == y_test))"
   ]
  },
  {
   "cell_type": "markdown",
   "metadata": {
    "id": "nPbVTFnMQuvW"
   },
   "source": [
    "## PyTorch\n",
    "\n",
    "Для выполнения следующего задания понадобится PyTorch. [Инструкция по установке](https://pytorch.org/get-started/locally/)\n",
    "\n",
    "Если у вас нет GPU, то можно использовать [Google Colab](https://colab.research.google.com/) или обучать сеть на CPU."
   ]
  },
  {
   "cell_type": "code",
   "execution_count": 8,
   "metadata": {
    "id": "tV0mJLu-QuvX"
   },
   "outputs": [],
   "source": [
    "from torchvision import datasets, transforms\n",
    "from torch.utils.data import DataLoader\n",
    "import torch\n",
    "from tqdm import tqdm\n",
    "from torch import nn\n",
    "import torch.nn.functional as F\n",
    "import matplotlib.pyplot as plt"
   ]
  },
  {
   "cell_type": "code",
   "execution_count": 9,
   "metadata": {
    "id": "VUC_QqpAQuva"
   },
   "outputs": [
    {
     "name": "stdout",
     "output_type": "stream",
     "text": [
      "Files already downloaded and verified\n",
      "Files already downloaded and verified\n"
     ]
    }
   ],
   "source": [
    "device = torch.device(\"cuda\" if torch.cuda.is_available() else \"cpu\")\n",
    "\n",
    "t = transforms.ToTensor()\n",
    "\n",
    "cifar_train = datasets.CIFAR10(\"datasets/cifar10\", download=True, train=True, transform=t)\n",
    "train_loader = DataLoader(cifar_train, batch_size=1024, shuffle=True, pin_memory=torch.cuda.is_available())\n",
    "cifar_test = datasets.CIFAR10(\"datasets/cifar10\", download=True, train=False, transform=t)\n",
    "test_loader = DataLoader(cifar_test, batch_size=1024, shuffle=False, pin_memory=torch.cuda.is_available())"
   ]
  },
  {
   "cell_type": "markdown",
   "metadata": {
    "id": "rGmpjcFfQuvd"
   },
   "source": [
    "### Задание 4 (3 балла)\n",
    "А теперь поработам с настоящими нейронными сетями и настоящими данными. Необходимо реализовать сверточную нейронную сеть, которая будет классифицировать изображения из датасета CIFAR10. Имплементируйте класс `Model` и функцию `calculate_loss`. \n",
    "\n",
    "Обратите внимание, что `Model` должна считать в конце `softmax`, т.к. мы решаем задачу классификации. Соответствеено, функция `calculate_loss` считает cross-entropy.\n",
    "\n",
    "Для успешного выполнения задания необходимо, чтобы `accuracy`, `mean precision` и `mean recall` были больше 0.5\n",
    "\n",
    "__Можно пользоваться всем содержимым библиотеки PyTorch.__"
   ]
  },
  {
   "cell_type": "code",
   "execution_count": 10,
   "metadata": {
    "id": "5sRmTKwKQuve"
   },
   "outputs": [],
   "source": [
    "from task import TorchModel, calculate_loss"
   ]
  },
  {
   "cell_type": "markdown",
   "metadata": {
    "id": "JAsLmkUqQuvh"
   },
   "source": [
    "Теперь обучим нашу модель. Для этого используем ранее созданные batch loader'ы."
   ]
  },
  {
   "cell_type": "code",
   "execution_count": 11,
   "metadata": {
    "id": "k5G8iMCeQuvh"
   },
   "outputs": [],
   "source": [
    "def train(model, epochs=100):\n",
    "    optimizer = torch.optim.Adam(model.parameters())\n",
    "    train_losses = []\n",
    "    test_losses = []\n",
    "    for i in range(epochs):\n",
    "        #Train\n",
    "        loss_mean = 0\n",
    "        elements = 0\n",
    "        for X, y in iter(train_loader):\n",
    "            X = X.to(device)\n",
    "            y = y.to(device)\n",
    "            loss = calculate_loss(X, y, model)\n",
    "            optimizer.zero_grad()\n",
    "            loss.backward()\n",
    "            optimizer.step()\n",
    "            loss_mean += loss.item() * len(X)\n",
    "            elements += len(X)\n",
    "        train_losses.append(loss_mean / elements)\n",
    "        #Test\n",
    "        loss_mean = 0 \n",
    "        elements = 0\n",
    "        for X, y in iter(test_loader):\n",
    "            X = X.to(device)\n",
    "            y = y.to(device)\n",
    "            loss = calculate_loss(X, y, model)\n",
    "            loss_mean += loss.item() * len(X)\n",
    "            elements += len(X)\n",
    "        test_losses.append(loss_mean / elements)\n",
    "        print(\"Epoch\", i, \"| Train loss\", train_losses[-1], \"| Test loss\", test_losses[-1])\n",
    "    return train_losses, test_losses"
   ]
  },
  {
   "cell_type": "code",
   "execution_count": 12,
   "metadata": {
    "id": "vmD9eWJOQuvl"
   },
   "outputs": [
    {
     "name": "stdout",
     "output_type": "stream",
     "text": [
      "Epoch 0 | Train loss 2.220682333831787 | Test loss 2.1173846881866454\n",
      "Epoch 1 | Train loss 2.0791695135498047 | Test loss 2.0473147155761717\n",
      "Epoch 2 | Train loss 2.0277453075408935 | Test loss 2.0033627117156985\n",
      "Epoch 3 | Train loss 1.9950389479827881 | Test loss 1.9835966958999633\n",
      "Epoch 4 | Train loss 1.974286769218445 | Test loss 1.9633083265304565\n",
      "Epoch 5 | Train loss 1.956035566329956 | Test loss 1.9481566612243653\n",
      "Epoch 6 | Train loss 1.94528755153656 | Test loss 1.9430262722015381\n",
      "Epoch 7 | Train loss 1.9328163888931273 | Test loss 1.939909997177124\n",
      "Epoch 8 | Train loss 1.928271992225647 | Test loss 1.9293658288955688\n",
      "Epoch 9 | Train loss 1.9164213226699829 | Test loss 1.928649547958374\n",
      "Epoch 10 | Train loss 1.9134751084136963 | Test loss 1.9176282081604004\n",
      "Epoch 11 | Train loss 1.9044297022247314 | Test loss 1.9130004013061523\n",
      "Epoch 12 | Train loss 1.9010866471862793 | Test loss 1.9081213968276978\n",
      "Epoch 13 | Train loss 1.8941337159729004 | Test loss 1.9121651706695557\n",
      "Epoch 14 | Train loss 1.8935281525421142 | Test loss 1.9048149293899537\n",
      "Epoch 15 | Train loss 1.8858990324401856 | Test loss 1.899938380241394\n",
      "Epoch 16 | Train loss 1.8817015768051149 | Test loss 1.8997317749023437\n",
      "Epoch 17 | Train loss 1.878689999847412 | Test loss 1.899911157989502\n",
      "Epoch 18 | Train loss 1.8745729091644288 | Test loss 1.8966213401794434\n",
      "Epoch 19 | Train loss 1.8712688362121581 | Test loss 1.8988239524841308\n",
      "Epoch 20 | Train loss 1.8691647973632812 | Test loss 1.8959772916793822\n",
      "Epoch 21 | Train loss 1.8650662012100219 | Test loss 1.895403952407837\n",
      "Epoch 22 | Train loss 1.8636316360473633 | Test loss 1.8935117799758912\n",
      "Epoch 23 | Train loss 1.8595237337112427 | Test loss 1.8903214193344116\n",
      "Epoch 24 | Train loss 1.8590001976776123 | Test loss 1.8892214719772338\n",
      "Epoch 25 | Train loss 1.8557295237350464 | Test loss 1.8900057361602782\n",
      "Epoch 26 | Train loss 1.8549416201782227 | Test loss 1.8875714937210084\n",
      "Epoch 27 | Train loss 1.8493000638961792 | Test loss 1.8868058126449585\n",
      "Epoch 28 | Train loss 1.8501589667129517 | Test loss 1.881892381286621\n",
      "Epoch 29 | Train loss 1.8491482607650758 | Test loss 1.8840300987243652\n",
      "Epoch 30 | Train loss 1.8474666694259643 | Test loss 1.8808092638015748\n",
      "Epoch 31 | Train loss 1.844331376876831 | Test loss 1.8822410984039306\n",
      "Epoch 32 | Train loss 1.8426655439758302 | Test loss 1.8783350910186767\n",
      "Epoch 33 | Train loss 1.8414220207214356 | Test loss 1.8781789833068847\n",
      "Epoch 34 | Train loss 1.8386497296524047 | Test loss 1.88204378490448\n",
      "Epoch 35 | Train loss 1.8414770754623413 | Test loss 1.8790160020828246\n",
      "Epoch 36 | Train loss 1.8365964818954468 | Test loss 1.883271694946289\n",
      "Epoch 37 | Train loss 1.8364725244140625 | Test loss 1.8757456146240234\n",
      "Epoch 38 | Train loss 1.8318172382354736 | Test loss 1.8794956525802613\n",
      "Epoch 39 | Train loss 1.836198041229248 | Test loss 1.875000439453125\n",
      "Epoch 40 | Train loss 1.834076452217102 | Test loss 1.8821922124862671\n",
      "Epoch 41 | Train loss 1.8324438553237914 | Test loss 1.8771654445648194\n",
      "Epoch 42 | Train loss 1.8276552416992187 | Test loss 1.8735390382766723\n",
      "Epoch 43 | Train loss 1.8252699684524536 | Test loss 1.8767984016418457\n",
      "Epoch 44 | Train loss 1.827208129196167 | Test loss 1.8715247407913207\n",
      "Epoch 45 | Train loss 1.8240947820281983 | Test loss 1.8759673063278197\n",
      "Epoch 46 | Train loss 1.8201321738433838 | Test loss 1.8730972068786622\n",
      "Epoch 47 | Train loss 1.8219608683776856 | Test loss 1.8750307943344116\n",
      "Epoch 48 | Train loss 1.8207944255828858 | Test loss 1.8709110109329223\n",
      "Epoch 49 | Train loss 1.8181364462661742 | Test loss 1.867358066177368\n",
      "Epoch 50 | Train loss 1.816016605834961 | Test loss 1.8686824075698854\n",
      "Epoch 51 | Train loss 1.8159874062347412 | Test loss 1.8693600799560546\n",
      "Epoch 52 | Train loss 1.8193039572143554 | Test loss 1.8741414226531983\n",
      "Epoch 53 | Train loss 1.8150929071426392 | Test loss 1.8696636466979981\n",
      "Epoch 54 | Train loss 1.8117169608688355 | Test loss 1.86947996673584\n",
      "Epoch 55 | Train loss 1.815518910560608 | Test loss 1.8718795013427734\n",
      "Epoch 56 | Train loss 1.8115030887985228 | Test loss 1.8691782592773438\n",
      "Epoch 57 | Train loss 1.8097767453002929 | Test loss 1.8649720203399658\n",
      "Epoch 58 | Train loss 1.8072445538711548 | Test loss 1.8657763299942016\n",
      "Epoch 59 | Train loss 1.8060259840393067 | Test loss 1.8661507587432862\n",
      "Epoch 60 | Train loss 1.8086278286361694 | Test loss 1.8640271766662597\n",
      "Epoch 61 | Train loss 1.8095398905563354 | Test loss 1.8664376949310302\n",
      "Epoch 62 | Train loss 1.8070311866378783 | Test loss 1.8663646821975708\n",
      "Epoch 63 | Train loss 1.8097875759124755 | Test loss 1.8738422262191772\n",
      "Epoch 64 | Train loss 1.8086373947525025 | Test loss 1.865769071006775\n",
      "Epoch 65 | Train loss 1.8005502801895141 | Test loss 1.8665381803512573\n",
      "Epoch 66 | Train loss 1.8011655365371704 | Test loss 1.8660580724716187\n",
      "Epoch 67 | Train loss 1.7988256118011474 | Test loss 1.8654388149261474\n",
      "Epoch 68 | Train loss 1.798470708503723 | Test loss 1.8644212423324584\n",
      "Epoch 69 | Train loss 1.800888879623413 | Test loss 1.8694424432754517\n",
      "Epoch 70 | Train loss 1.7982242524337768 | Test loss 1.8623047080993653\n",
      "Epoch 71 | Train loss 1.7946094160461425 | Test loss 1.8619181188583374\n",
      "Epoch 72 | Train loss 1.7953882624435424 | Test loss 1.8598205785751343\n",
      "Epoch 73 | Train loss 1.7949192670822143 | Test loss 1.861578645515442\n",
      "Epoch 74 | Train loss 1.7936289638900758 | Test loss 1.8614396633148194\n",
      "Epoch 75 | Train loss 1.7899500995635986 | Test loss 1.860879292678833\n",
      "Epoch 76 | Train loss 1.7896148359298707 | Test loss 1.8616001329421996\n",
      "Epoch 77 | Train loss 1.7911351724624633 | Test loss 1.861850293159485\n",
      "Epoch 78 | Train loss 1.7890303567886352 | Test loss 1.859914884185791\n",
      "Epoch 79 | Train loss 1.7893208158111573 | Test loss 1.8610205171585084\n",
      "Epoch 80 | Train loss 1.7868838663101196 | Test loss 1.8579280363082886\n",
      "Epoch 81 | Train loss 1.7862585497665406 | Test loss 1.8594263273239136\n",
      "Epoch 82 | Train loss 1.787946494140625 | Test loss 1.8606909912109375\n",
      "Epoch 83 | Train loss 1.7900145084762573 | Test loss 1.858140051651001\n",
      "Epoch 84 | Train loss 1.7830910968017577 | Test loss 1.859669144630432\n",
      "Epoch 85 | Train loss 1.782094605102539 | Test loss 1.8598306600570678\n",
      "Epoch 86 | Train loss 1.7821840279769898 | Test loss 1.8608800054550172\n",
      "Epoch 87 | Train loss 1.7835868685150147 | Test loss 1.8604236589431762\n",
      "Epoch 88 | Train loss 1.7843198143005372 | Test loss 1.8602810989379883\n",
      "Epoch 89 | Train loss 1.7797197861099243 | Test loss 1.8600795429229737\n",
      "Epoch 90 | Train loss 1.7806118759155274 | Test loss 1.859991012954712\n",
      "Epoch 91 | Train loss 1.7822873565292359 | Test loss 1.857873597717285\n",
      "Epoch 92 | Train loss 1.7808724716567994 | Test loss 1.8591829381942748\n",
      "Epoch 93 | Train loss 1.7793769681167602 | Test loss 1.860921035003662\n",
      "Epoch 94 | Train loss 1.7778204764556884 | Test loss 1.861209753036499\n",
      "Epoch 95 | Train loss 1.7811320219802858 | Test loss 1.8564924425125122\n",
      "Epoch 96 | Train loss 1.7759865254592895 | Test loss 1.855712154006958\n",
      "Epoch 97 | Train loss 1.7725529794692994 | Test loss 1.858023494529724\n",
      "Epoch 98 | Train loss 1.7798019986343383 | Test loss 1.8592917282104493\n",
      "Epoch 99 | Train loss 1.7789687797546387 | Test loss 1.8600900115966796\n"
     ]
    }
   ],
   "source": [
    "model = TorchModel().to(device)\n",
    "train_l, test_l = train(model)"
   ]
  },
  {
   "cell_type": "markdown",
   "metadata": {
    "id": "OJNAuHjNQuvn"
   },
   "source": [
    "Построим график функции потерь"
   ]
  },
  {
   "cell_type": "code",
   "execution_count": 13,
   "metadata": {
    "id": "F6OEGqriQuvo"
   },
   "outputs": [
    {
     "data": {
      "image/png": "[encoded data removed]",
      "text/plain": [
       "<Figure size 1200x600 with 1 Axes>"
      ]
     },
     "metadata": {},
     "output_type": "display_data"
    }
   ],
   "source": [
    "plt.figure(figsize=(12, 6))\n",
    "plt.plot(range(len(train_l)), train_l, label=\"train\")\n",
    "plt.plot(range(len(test_l)), test_l, label=\"test\")\n",
    "plt.xlabel(\"Epoch\")\n",
    "plt.ylabel(\"Loss\")\n",
    "plt.legend()\n",
    "plt.tight_layout()\n",
    "plt.show()"
   ]
  },
  {
   "cell_type": "markdown",
   "metadata": {
    "id": "miUxg0bDQuvs"
   },
   "source": [
    "И, наконец, посчитаем метрики"
   ]
  },
  {
   "cell_type": "code",
   "execution_count": 14,
   "metadata": {
    "id": "UXSOJFI8Quvt"
   },
   "outputs": [
    {
     "name": "stdout",
     "output_type": "stream",
     "text": [
      "Overall accuracy 0.5977\n",
      "Precision [0.64634146 0.70430622 0.46941046 0.40565178 0.55519481 0.5228833\n",
      " 0.63965517 0.63039216 0.72574257 0.65762395]\n",
      "Recall [0.583 0.736 0.422 0.445 0.513 0.457 0.742 0.643 0.733 0.703]\n",
      "Mean Precision 0.5957201868685695\n",
      "Mean Recall 0.5977\n"
     ]
    }
   ],
   "source": [
    "true_positive = np.zeros(10)\n",
    "true_negative = np.zeros(10)\n",
    "false_positive = np.zeros(10)\n",
    "false_negative = np.zeros(10)\n",
    "accuracy = 0\n",
    "ctn = 0\n",
    "for X, y in iter(test_loader):\n",
    "    X = X.to(device)\n",
    "    y = y.to(device)\n",
    "    with torch.no_grad():\n",
    "        y_pred = model(X).max(dim=1)[1]\n",
    "    for i in range(10):\n",
    "        for pred, real in zip(y_pred, y):\n",
    "            if real == i:\n",
    "                if pred == real:\n",
    "                    true_positive[i] += 1\n",
    "                else:\n",
    "                    false_negative[i] += 1\n",
    "            else:\n",
    "                if pred == i:\n",
    "                    false_positive[i] += 1\n",
    "                else:\n",
    "                    true_negative[i] += 1\n",
    "            \n",
    "    accuracy += torch.sum(y_pred == y).item()\n",
    "    ctn += len(y)\n",
    "print(\"Overall accuracy\", accuracy / ctn)\n",
    "print(\"Precision\", true_positive / (true_positive + false_positive))\n",
    "print(\"Recall\", true_positive / (true_positive + false_negative))\n",
    "print(\"Mean Precision\", np.mean(true_positive / (true_positive + false_positive)))\n",
    "print(\"Mean Recall\", np.mean(true_positive / (true_positive + false_negative)))"
   ]
  },
  {
   "cell_type": "code",
   "execution_count": 15,
   "metadata": {},
   "outputs": [],
   "source": [
    "model.save_model()"
   ]
  },
  {
   "cell_type": "code",
   "execution_count": null,
   "metadata": {},
   "outputs": [],
   "source": []
  }
 ],
 "metadata": {
  "colab": {
   "name": "hw06_task.ipynb",
   "provenance": []
  },
  "kernelspec": {
   "display_name": "Python 3 (ipykernel)",
   "language": "python",
   "name": "python3"
  },
  "language_info": {
   "codemirror_mode": {
    "name": "ipython",
    "version": 3
   },
   "file_extension": ".py",
   "mimetype": "text/x-python",
   "name": "python",
   "nbconvert_exporter": "python",
   "pygments_lexer": "ipython3",
   "version": "3.9.12"
  }
 },
 "nbformat": 4,
 "nbformat_minor": 1
}
