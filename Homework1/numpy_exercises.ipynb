{
 "cells": [
  {
   "cell_type": "markdown",
   "id": "3ecb4c08",
   "metadata": {},
   "source": [
    "## Упражнения по NumPy\n",
    "Все задачи здесь можно (и нужно) выполнить только методами numpy без использования циклов.\n",
    "Задания не обязательные и не на оценку, они нужны только для того, чтобы помочь вам получше разобраться с NumPy."
   ]
  },
  {
   "cell_type": "code",
   "execution_count": 2,
   "id": "f11dd905",
   "metadata": {},
   "outputs": [],
   "source": [
    "import numpy as np"
   ]
  },
  {
   "cell_type": "markdown",
   "id": "0679d48d",
   "metadata": {},
   "source": [
    "### Линейные операторы\n",
    "Даны два линейных оператора. Создайте новый оператор, который будет их композицией."
   ]
  },
  {
   "cell_type": "code",
   "execution_count": 22,
   "id": "c45a9008",
   "metadata": {},
   "outputs": [],
   "source": [
    "a = np.random.randn(8, 8)\n",
    "b = np.random.randn(8, 8)\n",
    "c = a.dot(b)"
   ]
  },
  {
   "cell_type": "markdown",
   "id": "fb43efaf",
   "metadata": {},
   "source": [
    "Примените созданный оператор из предыдущего пункта к вектору."
   ]
  },
  {
   "cell_type": "code",
   "execution_count": 24,
   "id": "3076cdf1",
   "metadata": {},
   "outputs": [],
   "source": [
    "v = np.random.randn(8)\n",
    "u = c.dot(v)"
   ]
  },
  {
   "cell_type": "markdown",
   "id": "0339057f",
   "metadata": {},
   "source": [
    "Посчитайте обратный оператор для оператора $c$ и примените его к вектору $u$ "
   ]
  },
  {
   "cell_type": "code",
   "execution_count": 6,
   "id": "4c303e2c",
   "metadata": {},
   "outputs": [],
   "source": [
    "c_inv = np.linalg.inv(a)\n",
    "u_inv = c_inv.dot(u)"
   ]
  },
  {
   "cell_type": "markdown",
   "id": "541b0017",
   "metadata": {},
   "source": [
    "### Создание и изменение массивов\n",
    "Создайте верхнетреугольную матрицу со случайными элементами."
   ]
  },
  {
   "cell_type": "code",
   "execution_count": 14,
   "id": "5a54360e",
   "metadata": {},
   "outputs": [
    {
     "data": {
      "text/plain": [
       "array([[-0.59253033,  0.75040798, -0.06547432],\n",
       "       [ 0.        , -1.1099999 ,  0.67675205],\n",
       "       [ 0.        ,  0.        ,  0.32918279]])"
      ]
     },
     "execution_count": 14,
     "metadata": {},
     "output_type": "execute_result"
    }
   ],
   "source": [
    "np.triu(np.random.randn(3,3))"
   ]
  },
  {
   "cell_type": "markdown",
   "id": "35a092c7",
   "metadata": {},
   "source": [
    "Создайте случайную матрицу перестановки."
   ]
  },
  {
   "cell_type": "code",
   "execution_count": 35,
   "id": "79f42276",
   "metadata": {},
   "outputs": [
    {
     "name": "stdout",
     "output_type": "stream",
     "text": [
      "[[1. 0. 0.]\n",
      " [0. 0. 1.]\n",
      " [0. 1. 0.]]\n"
     ]
    }
   ],
   "source": [
    "perest = np.eye(3)\n",
    "np.random.shuffle(perest)\n",
    "print(perest)"
   ]
  },
  {
   "cell_type": "markdown",
   "id": "f38f30f2",
   "metadata": {},
   "source": [
    "Дан случайный массив. Сделайте циклический сдвиг на 2 вдоль второй оси двумя разными способами."
   ]
  },
  {
   "cell_type": "code",
   "execution_count": 49,
   "id": "832bc584",
   "metadata": {},
   "outputs": [
    {
     "name": "stdout",
     "output_type": "stream",
     "text": [
      "[[[-0.2759176  -1.87577987 -0.37477045]\n",
      "  [-0.56248815 -0.88144332  1.17793052]\n",
      "  [ 0.34064115 -0.92386157  1.14506533]]\n",
      "\n",
      " [[ 0.40734716  0.0843021   1.43788554]\n",
      "  [ 0.53366531  0.04016676  0.07755874]\n",
      "  [-0.12961574 -0.75720704 -0.10822987]]\n",
      "\n",
      " [[-0.12824382  1.6570199   0.68256955]\n",
      "  [ 0.13653083  0.20406568  0.87878175]\n",
      "  [ 0.70522011  0.4708787  -1.86637305]]]\n"
     ]
    }
   ],
   "source": [
    "a = np.random.randn(3, 3, 3)\n",
    "print(a)"
   ]
  },
  {
   "cell_type": "code",
   "execution_count": 54,
   "id": "37130e99",
   "metadata": {},
   "outputs": [
    {
     "name": "stdout",
     "output_type": "stream",
     "text": [
      "[[[-1.87577987 -0.37477045 -0.2759176 ]\n",
      "  [-0.88144332  1.17793052 -0.56248815]\n",
      "  [-0.92386157  1.14506533  0.34064115]]\n",
      "\n",
      " [[ 0.0843021   1.43788554  0.40734716]\n",
      "  [ 0.04016676  0.07755874  0.53366531]\n",
      "  [-0.75720704 -0.10822987 -0.12961574]]\n",
      "\n",
      " [[ 1.6570199   0.68256955 -0.12824382]\n",
      "  [ 0.20406568  0.87878175  0.13653083]\n",
      "  [ 0.4708787  -1.86637305  0.70522011]]]\n"
     ]
    }
   ],
   "source": [
    "a1 = np.roll(a,2,axis=2)\n",
    "print(a1)"
   ]
  },
  {
   "cell_type": "code",
   "execution_count": null,
   "id": "1dff7bb3",
   "metadata": {},
   "outputs": [],
   "source": [
    "a2 = None #?????????????????????????????????????????????????????????????????????????????????????????"
   ]
  },
  {
   "cell_type": "markdown",
   "id": "e4f5a061",
   "metadata": {},
   "source": [
    "Дан случайный массив. Двумя разными способами приравняйте в нем все элементы меньше 0 к 0."
   ]
  },
  {
   "cell_type": "code",
   "execution_count": 60,
   "id": "0f9d32ed",
   "metadata": {},
   "outputs": [
    {
     "name": "stdout",
     "output_type": "stream",
     "text": [
      "[[[-1.40907774 -0.58312624  1.33940819]\n",
      "  [ 0.073377    0.570196    0.79228924]\n",
      "  [ 0.09440208  0.05186753 -1.25491244]]\n",
      "\n",
      " [[-0.41354678  0.38862677 -0.77917598]\n",
      "  [-0.53809951 -1.49336775  0.67166173]\n",
      "  [-1.20936603  0.83301204  0.95812965]]\n",
      "\n",
      " [[-1.06295425 -0.3397564   0.88871798]\n",
      "  [ 1.3064558  -0.38082499  0.24704835]\n",
      "  [-0.38447496 -0.57176713 -0.14327393]]]\n"
     ]
    }
   ],
   "source": [
    "a = np.random.randn(3, 3, 3)\n",
    "print(a)"
   ]
  },
  {
   "cell_type": "code",
   "execution_count": 61,
   "id": "0c3660b3",
   "metadata": {},
   "outputs": [
    {
     "name": "stdout",
     "output_type": "stream",
     "text": [
      "[[[0.         0.         1.33940819]\n",
      "  [0.073377   0.570196   0.79228924]\n",
      "  [0.09440208 0.05186753 0.        ]]\n",
      "\n",
      " [[0.         0.38862677 0.        ]\n",
      "  [0.         0.         0.67166173]\n",
      "  [0.         0.83301204 0.95812965]]\n",
      "\n",
      " [[0.         0.         0.88871798]\n",
      "  [1.3064558  0.         0.24704835]\n",
      "  [0.         0.         0.        ]]]\n"
     ]
    }
   ],
   "source": [
    "a1 = a\n",
    "a1[a<0]=0\n",
    "print(a1)"
   ]
  },
  {
   "cell_type": "code",
   "execution_count": null,
   "id": "4b7e7010",
   "metadata": {},
   "outputs": [],
   "source": [
    "a2 = None #????????????????????????????????????????????????????????????????????"
   ]
  },
  {
   "cell_type": "markdown",
   "id": "8f64541a",
   "metadata": {},
   "source": [
    "Даны два набора точек в восьмимерном пространстве. Посчитайте матрицу евклидовых расстояний между всеми парами точек из первого и второго наборов."
   ]
  },
  {
   "cell_type": "code",
   "execution_count": 158,
   "id": "150207d1",
   "metadata": {},
   "outputs": [
    {
     "name": "stdout",
     "output_type": "stream",
     "text": [
      "[[ 8.48528137 11.3137085 ]\n",
      " [ 5.65685425  8.48528137]\n",
      " [ 2.82842712  5.65685425]]\n"
     ]
    }
   ],
   "source": [
    "a = np.random.randn(16, 8)\n",
    "b = np.random.randn(32, 8)\n",
    "a = [[1,2],[3,4],[5,6]]\n",
    "b = [[7,8],[9,10]]\n",
    "a_new = np.tile(a,(len(b),1))\n",
    "b_new = np.tile(b,(1,len(a))).reshape(len(a)*len(b),len(a[0]))\n",
    "# print(a_new)\n",
    "# print(b_new)\n",
    "s = (a_new-b_new)**2\n",
    "s = np.sum(s,axis=1)\n",
    "s = s**0.5\n",
    "a_b_dist = s.reshape(len(b),len(a)).T\n",
    "print(a_b_dist)"
   ]
  },
  {
   "cell_type": "markdown",
   "id": "f49c32ca",
   "metadata": {},
   "source": [
    "Используя посчитанную матрицу расстояний найдите для каждой точки из набора $a$ ближайшую точку из набора $b$. Вывидите индексы точек и сами точки."
   ]
  },
  {
   "cell_type": "code",
   "execution_count": 204,
   "id": "f724a160",
   "metadata": {},
   "outputs": [],
   "source": [
    "min = np.argmin(a_b_dist,axis=1)"
   ]
  },
  {
   "cell_type": "code",
   "execution_count": 205,
   "id": "2ee684ad",
   "metadata": {},
   "outputs": [],
   "source": [
    "min_ind = list((zip(np.arange(0,len(min)), min)))"
   ]
  },
  {
   "cell_type": "code",
   "execution_count": 206,
   "id": "58636702",
   "metadata": {},
   "outputs": [
    {
     "name": "stdout",
     "output_type": "stream",
     "text": [
      "[[0 0]\n",
      " [1 0]\n",
      " [2 0]]\n"
     ]
    }
   ],
   "source": [
    "print(mins_ind)"
   ]
  },
  {
   "cell_type": "code",
   "execution_count": 203,
   "id": "bb18f667",
   "metadata": {},
   "outputs": [
    {
     "ename": "IndexError",
     "evalue": "list index out of range",
     "output_type": "error",
     "traceback": [
      "\u001b[1;31m---------------------------------------------------------------------------\u001b[0m",
      "\u001b[1;31mIndexError\u001b[0m                                Traceback (most recent call last)",
      "Input \u001b[1;32mIn [203]\u001b[0m, in \u001b[0;36m<cell line: 1>\u001b[1;34m()\u001b[0m\n\u001b[1;32m----> 1\u001b[0m a_b_dist[[\u001b[38;5;241m0\u001b[39m][\u001b[38;5;241m0\u001b[39m],\u001b[43m[\u001b[49m\u001b[38;5;241;43m1\u001b[39;49m\u001b[43m]\u001b[49m\u001b[43m[\u001b[49m\u001b[38;5;241;43m1\u001b[39;49m\u001b[43m]\u001b[49m]\n",
      "\u001b[1;31mIndexError\u001b[0m: list index out of range"
     ]
    }
   ],
   "source": [
    "a_b_dist[]"
   ]
  },
  {
   "cell_type": "code",
   "execution_count": null,
   "id": "81331013",
   "metadata": {},
   "outputs": [],
   "source": []
  }
 ],
 "metadata": {
  "kernelspec": {
   "display_name": "Python 3 (ipykernel)",
   "language": "python",
   "name": "python3"
  },
  "language_info": {
   "codemirror_mode": {
    "name": "ipython",
    "version": 3
   },
   "file_extension": ".py",
   "mimetype": "text/x-python",
   "name": "python",
   "nbconvert_exporter": "python",
   "pygments_lexer": "ipython3",
   "version": "3.9.12"
  }
 },
 "nbformat": 4,
 "nbformat_minor": 5
}
